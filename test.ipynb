{
 "cells": [
  {
   "cell_type": "code",
   "execution_count": null,
   "metadata": {},
   "outputs": [],
   "source": [
    "import os\n",
    "import pytest\n",
    "import json\n",
    "import joblib\n",
    "import pandas as pd\n",
    "from fastapi.testclient import TestClient\n",
    "from main import app, Features  # Assuming your FastAPI script is in main.py\n",
    "\n",
    "cwd = os.getcwd()\n",
    "parent_dir = os.path.dirname(\"model\")\n",
    "\n",
    "# Name of the file you want to locate\n",
    "filename = \"transformers.pkl\"\n",
    "\n",
    "# Construct the full path to the file in the parent directory\n",
    "file_path = os.path.join(parent_dir, filename)\n",
    "print(file_path)\n",
    "\n",
    "\n",
    "# Load model and transformers for testing\n",
    "model, encoder, lb = joblib.load(file_path)\n",
    "cat_features = [f for (f, t) in Features.__annotations__.items() if t == str]\n",
    "\n",
    "client = TestClient(app)\n",
    "\n",
    "\n",
    "def test_root_endpoint():\n",
    "    # Test the root endpoint \"/\"\n",
    "    response = client.get(\"/\")\n",
    "    assert response.status_code == 200\n",
    "    assert response.json() == \"This is the Census Bureau Classifier API\"\n",
    "\n",
    "@pytest.mark.parametrize(\"example_index, expected_output\", [\n",
    "    (0, \"<=50K\"),\n",
    "    (1, \">50K\"),\n",
    "])\n",
    "def test_post_prediction(example_index, expected_output):\n",
    "    examples = Features.model_config[\"json_schema\"][\"examples\"]\n",
    "\n",
    "    # Convert example data to JSON string\n",
    "    data = json.dumps(examples[example_index])\n",
    "\n",
    "    # Send POST request to endpoint\n",
    "    response = client.post(\"/predict\", data=data)\n",
    "\n",
    "    # Assert the response status code\n",
    "    assert response.status_code == 200, f\"Expected status code 200 but got {response.status_code}\"\n",
    "\n",
    "    # Assert the predicted output matches the expected output\n",
    "    assert response.json() == expected_output, f\"Expected {expected_output} but got {response.json()}\"\n",
    "\n",
    "def test_invalid_input():\n",
    "    # Test the \"/predict\" endpoint with invalid input data\n",
    "    invalid_data = {\n",
    "        \"age\": \"invalid\",\n",
    "        \"workclass\": \"Self-emp-not-inc\",\n",
    "        \"fnlgt\": 77516,\n",
    "        \"education\": \"Bachelors\",\n",
    "        \"education_num\": 13,\n",
    "        \"marital_status\": \"Never-married\",\n",
    "        \"occupation\": \"Adm-clerical\",\n",
    "        \"relationship\": \"Not-in-family\",\n",
    "        \"race\": \"White\",\n",
    "        \"sex\": \"Male\",\n",
    "        \"capital_gain\": 2174,\n",
    "        \"capital_loss\": 0,\n",
    "        \"hours_per_week\": 40,\n",
    "        \"native_country\": \"United-States\"\n",
    "    }\n",
    "\n",
    "    response = client.post(\"/predict\", json=invalid_data)\n",
    "    assert response.status_code == 422  # Expecting Unprocessable Entity status code for invalid input\n",
    "\n",
    "def test_missing_fields():\n",
    "    # Test the \"/predict\" endpoint with missing fields in input data\n",
    "    missing_data = {\n",
    "        \"age\": 39,\n",
    "        \"workclass\": \"State-gov\",\n",
    "        \"education_num\": 13,\n",
    "        \"marital_status\": \"Never-married\",\n",
    "        \"occupation\": \"Adm-clerical\",\n",
    "        \"relationship\": \"Not-in-family\",\n",
    "        \"race\": \"White\",\n",
    "        \"sex\": \"Male\",\n",
    "        \"capital_gain\": 2174,\n",
    "        \"capital_loss\": 0,\n",
    "        \"hours_per_week\": 40,\n",
    "        \"native_country\": \"United-States\"\n",
    "    }\n",
    "\n",
    "    response = client.post(\"/predict\", json=missing_data)\n",
    "    assert response.status_code == 422  # Expecting Unprocessable Entity status code for missing fields\n"
   ]
  },
  {
   "cell_type": "code",
   "execution_count": 2,
   "metadata": {},
   "outputs": [],
   "source": [
    "import os"
   ]
  },
  {
   "cell_type": "code",
   "execution_count": 11,
   "metadata": {},
   "outputs": [
    {
     "name": "stdout",
     "output_type": "stream",
     "text": [
      "c:\\Users\\UKASHI\\Documents\\Github\\nd0821-c3-starter-code\\model\\transformers.pkl\n"
     ]
    }
   ],
   "source": [
    "cwd = os.getcwd()\n",
    "\n",
    "# Name of the file you want to locate\n",
    "filename = r\"model\\transformers.pkl\"\n",
    "\n",
    "# Construct the full path to the file in the parent directory\n",
    "file_path = os.path.join(cwd, filename)\n",
    "print(file_path)"
   ]
  }
 ],
 "metadata": {
  "kernelspec": {
   "display_name": "mlopsudacity",
   "language": "python",
   "name": "python3"
  },
  "language_info": {
   "codemirror_mode": {
    "name": "ipython",
    "version": 3
   },
   "file_extension": ".py",
   "mimetype": "text/x-python",
   "name": "python",
   "nbconvert_exporter": "python",
   "pygments_lexer": "ipython3",
   "version": "3.12.3"
  }
 },
 "nbformat": 4,
 "nbformat_minor": 2
}
